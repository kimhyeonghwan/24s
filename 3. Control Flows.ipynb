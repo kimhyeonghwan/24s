{
 "cells": [
  {
   "cell_type": "markdown",
   "metadata": {},
   "source": [
    "# Control Flows\n",
    "#### - Control statements in Python \n",
    "- Conditional Constructs : if\n",
    "- Loops : for, while"
   ]
  },
  {
   "cell_type": "markdown",
   "metadata": {},
   "source": [
    "## Statements & Comments"
   ]
  },
  {
   "cell_type": "markdown",
   "metadata": {},
   "source": [
    "## if Conditionals"
   ]
  },
  {
   "cell_type": "code",
   "execution_count": 2,
   "metadata": {},
   "outputs": [],
   "source": [
    "# if condition:\n",
    "#    statement\n",
    "# ---optional!---\n",
    "# elif condition:\n",
    "#     statement\n",
    "# elif condition:\n",
    "#     statement\n",
    "# else:\n",
    "#     statement\n",
    "exam1=90; exam2=85\n",
    "if(exam1>=90) and (exam2>=90):\n",
    "    print('Excellent!')"
   ]
  },
  {
   "cell_type": "code",
   "execution_count": 4,
   "metadata": {},
   "outputs": [
    {
     "name": "stdout",
     "output_type": "stream",
     "text": [
      "Good\n"
     ]
    }
   ],
   "source": [
    "if(exam1>=90) | (exam2>=90):\n",
    "    print('Good')"
   ]
  },
  {
   "cell_type": "code",
   "execution_count": 5,
   "metadata": {},
   "outputs": [
    {
     "name": "stdout",
     "output_type": "stream",
     "text": [
      "a=10\n"
     ]
    }
   ],
   "source": [
    "a=10\n",
    "if a>10:\n",
    "    print(\"a>10\")\n",
    "else:\n",
    "    print(\"a=10\")"
   ]
  },
  {
   "cell_type": "code",
   "execution_count": 21,
   "metadata": {},
   "outputs": [
    {
     "name": "stdout",
     "output_type": "stream",
     "text": [
      "a is sorted\n"
     ]
    }
   ],
   "source": [
    "# Exercise 1\n",
    "a=[1,2,3,4,6,7,9]\n",
    "b=a.copy()\n",
    "b.sort()\n",
    "\n",
    "if a==b:\n",
    "    print(\"a is sorted\")\n",
    "else:\n",
    "    print(\"a is not sorted\")"
   ]
  },
  {
   "cell_type": "code",
   "execution_count": 38,
   "metadata": {},
   "outputs": [
    {
     "name": "stdout",
     "output_type": "stream",
     "text": [
      "n=8이고, 중간값은 4.5입니다.\n"
     ]
    }
   ],
   "source": [
    "# Exercise2\n",
    "x=[1,2,3,4,5,6,7,8]\n",
    "\n",
    "x_sort=x.copy()\n",
    "x.sort()\n",
    "\n",
    "len_x=len(x_sort)\n",
    "mid_even=(x_sort[int(len(x_sort)/2-1)]+x_sort[int(len(x_sort)/2)])/2\n",
    "mid_odd=x_sort[int(len(x_sort)//2)]\n",
    "\n",
    "if len(x_sort)%2==0:\n",
    "    print(\"n={}이고, 중간값은 {}입니다.\".format(len_x,mid_even))\n",
    "elif len(x_sort)%2==1:\n",
    "    print(\"n={}이고, 중간값은 {}입니다.\".format(len_x,mid_odd))\n",
    "else :\n",
    "    print(\"중간값을 산출할 수 없습니다.\")\n"
   ]
  },
  {
   "cell_type": "markdown",
   "metadata": {},
   "source": [
    "## Loops - for loop"
   ]
  },
  {
   "cell_type": "code",
   "execution_count": null,
   "metadata": {},
   "outputs": [],
   "source": [
    "# for interating_var in iterable:\n",
    "#    statements"
   ]
  },
  {
   "cell_type": "code",
   "execution_count": 14,
   "metadata": {},
   "outputs": [
    {
     "name": "stdout",
     "output_type": "stream",
     "text": [
      "Input a number: 99\n",
      "The output will be...\n",
      "99 x 1 = 99\n",
      "99 x 2 = 198\n",
      "99 x 3 = 297\n",
      "99 x 4 = 396\n",
      "99 x 5 = 495\n",
      "99 x 6 = 594\n",
      "99 x 7 = 693\n",
      "99 x 8 = 792\n",
      "99 x 9 = 891\n"
     ]
    }
   ],
   "source": [
    "# exercise 3\n",
    "\n",
    "a=input(\"When you enter...\")\n",
    "a_int=int(a)\n",
    "print(\"Input a number: \"+a,\n",
    "          \"The output will be...\",\n",
    "          sep=\"\\n\")\n",
    "for i in range(1,10):\n",
    "    print(a+\" x \"+str(i)+\" = \"+str(a_int*i))"
   ]
  },
  {
   "cell_type": "code",
   "execution_count": 19,
   "metadata": {},
   "outputs": [
    {
     "name": "stdout",
     "output_type": "stream",
     "text": [
      "25005000\n",
      "25000000\n",
      "50005000\n"
     ]
    }
   ],
   "source": [
    "# exercise 4\n",
    "sum_even=0\n",
    "sum_odd=0\n",
    "for i in range(10001):\n",
    "    if i%2==0:\n",
    "        sum_even+=i\n",
    "    else:sum_odd+=i\n",
    "\n",
    "print(sum_even,\n",
    "      sum_odd,\n",
    "      sum_even+sum_odd,\n",
    "      sep='\\n')\n"
   ]
  },
  {
   "cell_type": "code",
   "execution_count": 48,
   "metadata": {},
   "outputs": [
    {
     "name": "stdout",
     "output_type": "stream",
     "text": [
      "[1, 1, 2, 3, 5, 8, 13, 21, 34, 55, 89, 144]\n",
      "376\n"
     ]
    }
   ],
   "source": [
    "# exercise 5\n",
    "fibonacci=[1,1]\n",
    "for i in range(10):\n",
    "    fibonacci.append(fibonacci[i]+fibonacci[i+1])\n",
    "print(\n",
    "    fibonacci,\n",
    "    sum(fibonacci),\n",
    "    sep='\\n'\n",
    ")"
   ]
  },
  {
   "cell_type": "code",
   "execution_count": 53,
   "metadata": {},
   "outputs": [
    {
     "name": "stdout",
     "output_type": "stream",
     "text": [
      "Sample Data : sample asdfl11231,2,1,3.2  21\n",
      "The output will be...\n",
      "Letters 11 at [0, 1, 2, 3, 4, 5, 7, 8, 9, 10, 11]\n",
      "Digits 11 at [12, 13, 14, 15, 16, 18, 20, 22, 24, 27, 28]\n",
      "And there are 7 at [6, 17, 19, 21, 23, 25, 26] which are NOT alphanumeric\n"
     ]
    }
   ],
   "source": [
    "# exercise 6\n",
    "a=input(\"When you enter alpha-num string...\")\n",
    "letter_index=list()\n",
    "digits_index=list()\n",
    "non_index=list()\n",
    "print(\n",
    "    \"Sample Data : \"+a,\n",
    "    \"The output will be...\",\n",
    "    sep='\\n'\n",
    ")\n",
    "for i in range(0,len(a)):\n",
    "    if a[i].isalpha():\n",
    "        letter_index.append(i)\n",
    "    elif a[i].isnumeric():\n",
    "        digits_index.append(i)\n",
    "    else: non_index.append(i)\n",
    "\n",
    "print(\n",
    "    \"Letters {} at {}\".format(len(letter_index),letter_index),\n",
    "    \"Digits {} at {}\".format(len(digits_index),digits_index),\n",
    "    \"And there are {} at {} which are NOT alphanumeric\".format(len(non_index),non_index),\n",
    "    sep='\\n'\n",
    ")\n"
   ]
  }
 ],
 "metadata": {
  "kernelspec": {
   "display_name": "tf_hwan",
   "language": "python",
   "name": "python3"
  },
  "language_info": {
   "codemirror_mode": {
    "name": "ipython",
    "version": 3
   },
   "file_extension": ".py",
   "mimetype": "text/x-python",
   "name": "python",
   "nbconvert_exporter": "python",
   "pygments_lexer": "ipython3",
   "version": "undefined.undefined.undefined"
  }
 },
 "nbformat": 4,
 "nbformat_minor": 2
}
