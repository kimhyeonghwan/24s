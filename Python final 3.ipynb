{
  "cells": [
    {
      "cell_type": "markdown",
      "metadata": {},
      "source": [
        "# Python Final Exam {.unnumbered}\n",
        "\n",
        "## Problem 1.\n",
        "\n",
        "![](images/Python_final1.png)\n",
        "\n",
        "## Answer 1.\n"
      ],
      "id": "49eec474"
    },
    {
      "cell_type": "code",
      "metadata": {},
      "source": [
        "import pandas as pd\n",
        "import numpy as np\n",
        "\n",
        "def MVportfolio(asset, mu_p):\n",
        "    # Calculate log returns (first column is date.)\n",
        "    return_asset = np.log(asset.iloc[:, 1:]).diff()\n",
        "\n",
        "    # Calculate expected log returns\n",
        "    expect_asset = return_asset.mean()\n",
        "    expect_asset_np = np.array(expect_asset)\n",
        "\n",
        "    # Calculate covariance matrix\n",
        "    cov_asset = return_asset.cov()\n",
        "    cov_asset_np = np.array(cov_asset)\n",
        "\n",
        "    # Use lagrange multipliers method for optimazation\n",
        "    num_assets = return_asset.shape[1]\n",
        "    u = np.ones(num_assets)\n",
        "\n",
        "    a = np.block([\n",
        "        [cov_asset_np, u[:, np.newaxis], expect_asset_np[:, np.newaxis]],\n",
        "        [u[np.newaxis, :], np.zeros(1), np.zeros(1)],\n",
        "        [expect_asset_np[np.newaxis, :], np.zeros(1), np.zeros(1)]\n",
        "    ])\n",
        "\n",
        "    b = np.concatenate([np.zeros(num_assets), [1], [mu_p]])\n",
        "\n",
        "    lagrange = np.linalg.solve(a, b)\n",
        "    \n",
        "    # Optimal weights\n",
        "    result = lagrange[:num_assets]\n",
        "\n",
        "    # Portfolio variance\n",
        "    Var_p = np.dot(result, np.dot(cov_asset, result))\n",
        "\n",
        "    return result, Var_p\n",
        "\n",
        "# Test\n",
        "it = pd.read_csv('it.csv')\n",
        "MVportfolio(asset = it, mu_p = -0.001)"
      ],
      "id": "e0dd6c40",
      "execution_count": null,
      "outputs": []
    },
    {
      "cell_type": "code",
      "metadata": {},
      "source": [
        "import matplotlib.pyplot as plot\n",
        "\n",
        "# Range of mu_p\n",
        "mu_p_values = np.arange(-0.001, 0.0011, 0.0001)\n",
        "\n",
        "# Looping\n",
        "portfolio_variances = []\n",
        "for mu_p in mu_p_values:\n",
        "    tmp = MVportfolio(asset=it, mu_p=mu_p)\n",
        "    Var_p = tmp[1]\n",
        "    portfolio_variances.append(Var_p)\n",
        "\n",
        "# Plotting\n",
        "plot.plot(portfolio_variances, mu_p_values)\n",
        "plot.ylabel('Portfolio Variance')\n",
        "plot.xlabel('Portfolio expected return')"
      ],
      "id": "54e8ae99",
      "execution_count": null,
      "outputs": []
    },
    {
      "cell_type": "markdown",
      "metadata": {},
      "source": [
        "## Problem 2.\n",
        "\n",
        "![](images/Python_final2.png)\n",
        "\n",
        "## Answer 2.\n"
      ],
      "id": "c21391a9"
    },
    {
      "cell_type": "code",
      "metadata": {},
      "source": [
        "# 1. 'price.csv'의 'date'를 DatetimeIndex로 하는 pd.DataFrame price 생성\n",
        "price = pd.read_csv('price.csv')\n",
        "price['date'] = pd.to_datetime(price['date'])\n",
        "price = price.set_index('date')\n",
        "price"
      ],
      "id": "0354c51a",
      "execution_count": null,
      "outputs": []
    },
    {
      "cell_type": "code",
      "metadata": {},
      "source": [
        "# 2. price에서 2019년만 선택해서 price_sub로 저장\n",
        "price_sub=price.loc['2019']\n",
        "price_sub"
      ],
      "id": "c60d39d3",
      "execution_count": null,
      "outputs": []
    },
    {
      "cell_type": "code",
      "metadata": {},
      "source": [
        "# 3. 열 별로 직전 대비 변동률을 구하고, 누적 곱하여 cum_ret 생성\n",
        "returns = price_sub.pct_change()\n",
        "cum_ret = (1 + returns).prod(axis=0) - 1 # 마지막에 1 빼주는게 맞음\n",
        "cum_ret"
      ],
      "id": "a48a2576",
      "execution_count": null,
      "outputs": []
    },
    {
      "cell_type": "code",
      "metadata": {},
      "source": [
        "# 4. cum_ret에서 높은 순서로 10개 출력 및 가장 높은 종목의 시계열 그림 출력\n",
        "top10_cum_ret = cum_ret.nlargest(10)\n",
        "top10_cum_ret"
      ],
      "id": "ed9cd5eb",
      "execution_count": null,
      "outputs": []
    },
    {
      "cell_type": "code",
      "metadata": {},
      "source": [
        "top_index = top10_cum_ret.index[0]\n",
        "price_sub[top_index].plot()\n",
        "plot.xlabel('Date')\n",
        "plot.ylabel('Price')"
      ],
      "id": "3f4c01ce",
      "execution_count": null,
      "outputs": []
    },
    {
      "cell_type": "code",
      "metadata": {},
      "source": [
        "# 5. 열 별로 직전 대비 변동률의 표준편차를 계산하여 std 생성\n",
        "std = returns.std(axis=0) * np.sqrt(252)\n",
        "std"
      ],
      "id": "d6405f4f",
      "execution_count": null,
      "outputs": []
    },
    {
      "cell_type": "code",
      "metadata": {},
      "source": [
        "# 6. std에서 0이거나 NaN인 경우 제외\n",
        "std = std[(std != 0) & (~std.isna())]\n",
        "std"
      ],
      "id": "8518e4e2",
      "execution_count": null,
      "outputs": []
    },
    {
      "cell_type": "code",
      "metadata": {},
      "source": [
        "# 7. 종목 별 Sharpe ratio=cum_ret/std를 구하여 shrp 생성\n",
        "shrp = cum_ret / std\n",
        "shrp"
      ],
      "id": "11ddb8a5",
      "execution_count": null,
      "outputs": []
    },
    {
      "cell_type": "code",
      "metadata": {},
      "source": [
        "# 8. shrp에 NaN이 포함된 경우 shar의 최소값으로 대체\n",
        "shrp.fillna(shrp.min(), inplace=True)\n",
        "shrp"
      ],
      "id": "07b46b53",
      "execution_count": null,
      "outputs": []
    },
    {
      "cell_type": "code",
      "metadata": {},
      "source": [
        "# 9. shrp를 값이 큰 순서로 10개 종목 출력\n",
        "top10_shrp = shrp.nlargest(10)\n",
        "top10_shrp"
      ],
      "id": "4be64de1",
      "execution_count": null,
      "outputs": []
    },
    {
      "cell_type": "code",
      "metadata": {},
      "source": [
        "# 10. 위 10개 종목에 대한 cum_ret, std, shrp 값을 각 열로 하는 pd.DataFrame  final_result 생성\n",
        "final_result = pd.DataFrame({\n",
        "    'cum_ret': cum_ret[top10_shrp.index],\n",
        "    'std': std[top10_shrp.index],\n",
        "    'shrp': shrp[top10_shrp.index]\n",
        "})\n",
        "final_result"
      ],
      "id": "bcb09f5f",
      "execution_count": null,
      "outputs": []
    },
    {
      "cell_type": "markdown",
      "metadata": {},
      "source": [
        "## Problem 3.\n",
        "\n",
        "![](images/Python_final3.png)\n"
      ],
      "id": "cb604093"
    },
    {
      "cell_type": "code",
      "metadata": {},
      "source": [
        "#| echo: false\n",
        "def ECallSimul_1(S0, K, T, r, sigma, M, I=250000): \n",
        "    import math \n",
        "    import random \n",
        "    S = [] \n",
        "    dt = T/M \n",
        "    for i in range(I): \n",
        "        path = [] \n",
        "        for t in range (M+1): \n",
        "            if t == 0 : \n",
        "                path.append(S0) \n",
        "            else: \n",
        "                z=random.gauss(0., 1.) \n",
        "                St = path[t-1] * math.exp( (r-0.5*sigma**2)*dt + sigma * math.sqrt(dt)*z ) \n",
        "                path.append(St) \n",
        "        S.append(path) \n",
        "    sum_val = 0.0 \n",
        "    for path in S: \n",
        "        sum_val += max(path[-1]-K, 0) \n",
        "    C0 = math.exp(-r*T)*sum_val/I \n",
        "    return ( round(C0, 3) ) "
      ],
      "id": "bf4b899e",
      "execution_count": null,
      "outputs": []
    },
    {
      "cell_type": "markdown",
      "metadata": {},
      "source": [
        "## Answer\n"
      ],
      "id": "a4f5478e"
    },
    {
      "cell_type": "code",
      "metadata": {},
      "source": [
        "def ECallSimul_2(S0, K, T, r, sigma, M, I=250000):\n",
        "    import numpy as np\n",
        "    S = np.zeros((I,M+1))\n",
        "    S[:,0] = S0\n",
        "    dt = T/M\n",
        "    z = np.random.standard_normal(size=(I,M))\n",
        "    for t in range(1,M+1):\n",
        "        S[:,t] = S[:,t-1]*np.exp((r-0.5*sigma**2)*dt + sigma*np.sqrt(dt)*z[:,t-1])\n",
        "    sum_val = np.maximum(S[:,-1]-K, 0)\n",
        "    C0 = np.exp(-r*T)*np.mean(sum_val)\n",
        "    return ( round(C0, 3) )"
      ],
      "id": "1abc0da2",
      "execution_count": null,
      "outputs": []
    },
    {
      "cell_type": "code",
      "metadata": {},
      "source": [
        "%time ECallSimul_1(S0=100.,K=105.,T=1.,r=0.05,sigma=0.2,M=50,I=250000)"
      ],
      "id": "08b60852",
      "execution_count": null,
      "outputs": []
    },
    {
      "cell_type": "code",
      "metadata": {},
      "source": [
        "%time ECallSimul_2(S0=100.,K=105.,T=1.,r=0.05,sigma=0.2,M=50,I=250000)"
      ],
      "id": "1d2398a6",
      "execution_count": null,
      "outputs": []
    }
  ],
  "metadata": {
    "kernelspec": {
      "display_name": "Python 3",
      "language": "python",
      "name": "python3"
    }
  },
  "nbformat": 4,
  "nbformat_minor": 5
}