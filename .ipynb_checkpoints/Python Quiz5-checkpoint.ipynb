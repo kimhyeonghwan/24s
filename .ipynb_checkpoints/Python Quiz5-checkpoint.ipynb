{
  "cells": [
    {
      "cell_type": "markdown",
      "metadata": {},
      "source": [
        "# 금융공학프로그래밍3, Quiz5 {.unnumbered}\n",
        "\n",
        "## Problem 1\n",
        "\n",
        "1. Create a 2-dimensional ndarray object 'Arr' with the code below and answer the following.\n"
      ],
      "id": "613ac1a9"
    },
    {
      "cell_type": "code",
      "metadata": {},
      "source": [
        "import numpy as np\n",
        "np.random.seed(123)\n",
        "Arr=np.random.randn(8,10)"
      ],
      "id": "fb1ebfbe",
      "execution_count": null,
      "outputs": []
    },
    {
      "cell_type": "markdown",
      "metadata": {},
      "source": [
        "(1) Write an expression to calculate column sum of Arr.\n"
      ],
      "id": "1995033b"
    },
    {
      "cell_type": "code",
      "metadata": {},
      "source": [
        "np.sum(Arr,axis=0)"
      ],
      "id": "35e001ba",
      "execution_count": null,
      "outputs": []
    },
    {
      "cell_type": "markdown",
      "metadata": {},
      "source": [
        "(2) Write an expression that finds the position (row and column index) of an element greater than 2 in Arr\n"
      ],
      "id": "8929df83"
    },
    {
      "cell_type": "code",
      "metadata": {},
      "source": [
        "np.where(Arr>2)"
      ],
      "id": "c4088bdc",
      "execution_count": null,
      "outputs": []
    },
    {
      "cell_type": "markdown",
      "metadata": {},
      "source": [
        "## Problem 2\n",
        "\n",
        "2. Write 3 different expressions to create a pandas Series object 'S' displayed as follows.\n",
        ">>> S\n",
        "a 0\n",
        "b 1\n",
        "c 2\n",
        "d 3\n",
        "dtype: int64"
      ],
      "id": "f3032172"
    }
  ],
  "metadata": {
    "kernelspec": {
      "display_name": "Python 3",
      "language": "python",
      "name": "python3"
    }
  },
  "nbformat": 4,
  "nbformat_minor": 5
}