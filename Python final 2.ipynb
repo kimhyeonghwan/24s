{
  "cells": [
    {
      "cell_type": "markdown",
      "metadata": {},
      "source": [
        "# Python Final Exam {.unnumbered}\n",
        "\n",
        "## Problem 1.\n",
        "\n",
        "![](images/Python_final1.png)\n",
        "\n",
        "## Answer\n"
      ],
      "id": "f835d44b"
    },
    {
      "cell_type": "code",
      "metadata": {},
      "source": [
        "import pandas as pd\n",
        "import numpy as np\n",
        "\n",
        "def MVportfolio(asset, mu_p):\n",
        "    # Calculate log returns (first column is date.)\n",
        "    return_asset = np.log(asset.iloc[:, 1:]).diff()\n",
        "\n",
        "    # Calculate expected log returns\n",
        "    expect_asset = return_asset.mean()\n",
        "    expect_asset_np = np.array(expect_asset)\n",
        "\n",
        "    # Calculate covariance matrix\n",
        "    cov_asset = return_asset.cov()\n",
        "    cov_asset_np = np.array(cov_asset)\n",
        "\n",
        "    # Use lagrange multipliers method for optimazation\n",
        "    num_assets = return_asset.shape[1]\n",
        "    u = np.ones(num_assets)\n",
        "\n",
        "    a = np.block([\n",
        "        [cov_asset_np, u[:, np.newaxis], expect_asset_np[:, np.newaxis]],\n",
        "        [u[np.newaxis, :], np.zeros(1), np.zeros(1)],\n",
        "        [expect_asset_np[np.newaxis, :], np.zeros(1), np.zeros(1)]\n",
        "    ])\n",
        "\n",
        "    b = np.concatenate([np.zeros(num_assets), [1], [mu_p]])\n",
        "\n",
        "    lagrange = np.linalg.solve(a, b)\n",
        "    \n",
        "    # Optimal weights\n",
        "    result = lagrange[:num_assets]\n",
        "\n",
        "    # Portfolio variance\n",
        "    Var_p = np.dot(result, np.dot(cov_asset, result))\n",
        "\n",
        "    return result, Var_p\n",
        "\n",
        "# Test\n",
        "it = pd.read_csv('it.csv')\n",
        "MVportfolio(asset = it, mu_p = -0.001)"
      ],
      "id": "6cb59d61",
      "execution_count": null,
      "outputs": []
    },
    {
      "cell_type": "code",
      "metadata": {},
      "source": [
        "import matplotlib.pyplot as plot\n",
        "\n",
        "# Range of mu_p\n",
        "mu_p_values = np.arange(-0.001, 0.0011, 0.0001)\n",
        "\n",
        "# Looping\n",
        "portfolio_variances = []\n",
        "for mu_p in mu_p_values:\n",
        "    tmp = MVportfolio(asset=it, mu_p=mu_p)\n",
        "    Var_p = tmp[1]\n",
        "    portfolio_variances.append(Var_p)\n",
        "\n",
        "# Plotting\n",
        "plot.plot(portfolio_variances, mu_p_values)\n",
        "plot.ylabel('Portfolio Variance')\n",
        "plot.xlabel('Portfolio expected return')"
      ],
      "id": "88492b10",
      "execution_count": null,
      "outputs": []
    },
    {
      "cell_type": "markdown",
      "metadata": {},
      "source": [
        "## Problem 2.\n",
        "\n",
        "![](images/Python_final2.png)\n",
        "\n",
        "## Answer\n"
      ],
      "id": "f765f689"
    },
    {
      "cell_type": "code",
      "metadata": {},
      "source": [
        "# 1. 'price.csv'의 'date'를 DatetimeIndex로 하는 pd.DataFrame price 생성\n",
        "price = pd.read_csv('price.csv')\n",
        "price['date'] = pd.to_datetime(price['date'])\n",
        "price = price.set_index('date')\n",
        "price"
      ],
      "id": "10c5d496",
      "execution_count": null,
      "outputs": []
    },
    {
      "cell_type": "code",
      "metadata": {},
      "source": [
        "# 2. price에서 2019년만 선택해서 price_sub로 저장\n",
        "price_sub=price.loc['2019']\n",
        "price_sub"
      ],
      "id": "b4b4a563",
      "execution_count": null,
      "outputs": []
    },
    {
      "cell_type": "code",
      "metadata": {},
      "source": [
        "# 3. 열 별로 직전 대비 변동률을 구하고, 누적 곱하여 cum_ret 생성\n",
        "returns = price_sub.pct_change()\n",
        "cum_ret = (1 + returns).prod(axis=0) - 1 # 마지막에 1 빼주는게 맞음\n",
        "cum_ret"
      ],
      "id": "3799ba68",
      "execution_count": null,
      "outputs": []
    },
    {
      "cell_type": "code",
      "metadata": {},
      "source": [
        "# 4. cum_ret에서 높은 순서로 10개 출력 및 가장 높은 종목의 시계열 그림 출력\n",
        "top10_cum_ret = cum_ret.nlargest(10)\n",
        "top10_cum_ret"
      ],
      "id": "508b2b2c",
      "execution_count": null,
      "outputs": []
    },
    {
      "cell_type": "code",
      "metadata": {},
      "source": [
        "top_index = top10_cum_ret.index[0]\n",
        "price_sub[top_index].plot()\n",
        "plot.xlabel('Date')\n",
        "plot.ylabel('Price')"
      ],
      "id": "3914e83f",
      "execution_count": null,
      "outputs": []
    },
    {
      "cell_type": "code",
      "metadata": {},
      "source": [
        "# 5. 열 별로 직전 대비 변동률의 표준편차를 계산하여 std 생성\n",
        "std = returns.std(axis=0) * np.sqrt(252)\n",
        "std"
      ],
      "id": "fbf8808b",
      "execution_count": null,
      "outputs": []
    },
    {
      "cell_type": "code",
      "metadata": {},
      "source": [
        "# 6. std에서 0이거나 NaN인 경우 제외\n",
        "std = std[(std != 0) & (~std.isna())]\n",
        "std"
      ],
      "id": "4896457b",
      "execution_count": null,
      "outputs": []
    },
    {
      "cell_type": "code",
      "metadata": {},
      "source": [
        "# 7. 종목 별 Sharpe ratio=cum_ret/std를 구하여 shrp 생성\n",
        "shrp = cum_ret / std\n",
        "shrp"
      ],
      "id": "f340e97d",
      "execution_count": null,
      "outputs": []
    },
    {
      "cell_type": "code",
      "metadata": {},
      "source": [
        "# 8. shrp에 NaN이 포함된 경우 shar의 최소값으로 대체\n",
        "shrp.fillna(shrp.min(), inplace=True)\n",
        "shrp"
      ],
      "id": "5eba7623",
      "execution_count": null,
      "outputs": []
    },
    {
      "cell_type": "code",
      "metadata": {},
      "source": [
        "# 9. shrp를 값이 큰 순서로 10개 종목 출력\n",
        "top10_shrp = shrp.nlargest(10)\n",
        "top10_shrp"
      ],
      "id": "a79052ab",
      "execution_count": null,
      "outputs": []
    },
    {
      "cell_type": "code",
      "metadata": {},
      "source": [
        "# 10. 위 10개 종목에 대한 cum_ret, std, shrp 값을 각 열로 하는 pd.DataFrame  final_result 생성\n",
        "final_result = pd.DataFrame({\n",
        "    'cum_ret': cum_ret[top10_shrp.index],\n",
        "    'std': std[top10_shrp.index],\n",
        "    'shrp': shrp[top10_shrp.index]\n",
        "})\n",
        "final_result"
      ],
      "id": "53f11031",
      "execution_count": null,
      "outputs": []
    },
    {
      "cell_type": "markdown",
      "metadata": {},
      "source": [
        "## Problem 3.\n",
        "\n",
        "![](images/Python_final3.png)\n"
      ],
      "id": "d9d6c213"
    },
    {
      "cell_type": "code",
      "metadata": {},
      "source": [
        "def ECallSimul_1(S0, K, T, r, sigma, M, I=250000): \n",
        "    import math \n",
        "    import random \n",
        "    S = [] \n",
        "    dt = T/M \n",
        "    for i in range(I): \n",
        "        path = [] \n",
        "        for t in range (M+1): \n",
        "            if t == 0 : \n",
        "                path.append(S0) \n",
        "            else: \n",
        "                z=random.gauss(0., 1.) \n",
        "                St = path[t-1] * math.exp( (r-0.5*sigma**2)*dt + sigma * math.sqrt(dt)*z ) \n",
        "                path.append(St) \n",
        "        S.append(path) \n",
        "    sum_val = 0.0 \n",
        "    for path in S: \n",
        "        sum_val += max(path[-1]-K, 0) \n",
        "    C0 = math.exp(-r*T)*sum_val/I \n",
        "    return ( round(C0, 3) ) "
      ],
      "id": "1aee4f8e",
      "execution_count": null,
      "outputs": []
    },
    {
      "cell_type": "markdown",
      "metadata": {},
      "source": [
        "## Answer\n"
      ],
      "id": "b0a32990"
    },
    {
      "cell_type": "code",
      "metadata": {},
      "source": [
        "def ECallSimul_2(S0, K, T, r, sigma, M, I=250000):\n",
        "    import numpy as np\n",
        "    S = np.zeros((I,M+1))\n",
        "    S[:,0] = S0\n",
        "    dt = T/M\n",
        "    z = np.random.standard_normal(size=(I,M))\n",
        "    for t in range(1,M+1):\n",
        "        S[:,t] = S[:,t-1]*np.exp((r-0.5*sigma**2)*dt + sigma*np.sqrt(dt)*z[:,t-1])\n",
        "    sum_val = np.maximum(S[:,-1]-K, 0)\n",
        "    C0 = np.exp(-r*T)*np.mean(sum_val)\n",
        "    return ( round(C0, 3) )"
      ],
      "id": "d1f414b4",
      "execution_count": null,
      "outputs": []
    },
    {
      "cell_type": "code",
      "metadata": {},
      "source": [
        "%time ECallSimul_1(S0=100.,K=105.,T=1.,r=0.05,sigma=0.2,M=50,I=250000)"
      ],
      "id": "db19aa4b",
      "execution_count": null,
      "outputs": []
    },
    {
      "cell_type": "code",
      "metadata": {},
      "source": [
        "%time ECallSimul_2(S0=100.,K=105.,T=1.,r=0.05,sigma=0.2,M=50,I=250000)"
      ],
      "id": "2ac76d07",
      "execution_count": null,
      "outputs": []
    }
  ],
  "metadata": {
    "kernelspec": {
      "display_name": "Python 3",
      "language": "python",
      "name": "python3"
    }
  },
  "nbformat": 4,
  "nbformat_minor": 5
}