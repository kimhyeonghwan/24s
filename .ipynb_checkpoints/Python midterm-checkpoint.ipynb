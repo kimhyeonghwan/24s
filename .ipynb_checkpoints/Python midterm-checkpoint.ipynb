{
 "cells": [
  {
   "cell_type": "markdown",
   "metadata": {},
   "source": [
    "# Python Midterm {.unnumbered}\n",
    "\n",
    "20249132 김형환"
   ]
  },
  {
   "cell_type": "markdown",
   "metadata": {},
   "source": [
    "## Problem 1.\n",
    "\n",
    "![](Python midterm1.png)\n",
    "\n",
    "### (1)\n",
    "5개의 인자 facevalue=𝑃𝑉, couprate=𝑟, yield=𝑦, maturity=𝑀으로 입력하고, frequency=𝑓에 맞게 “annual”, “semi-annual”, “quarterly” 중 하나의 문자 값으로 입력하면, 위 식에 따라 계산된 채권가격과 듀레이션을 아래와 같은 형태의 튜플로 반환하는 함수 bondftn을 작성하여라."
   ]
  },
  {
   "cell_type": "code",
   "execution_count": 20,
   "metadata": {},
   "outputs": [],
   "source": [
    "def bondftn(pv,r,y,m,f=\"annual\",rnd=3):\n",
    "    if type(pv)!=float and type(pv)!=int : return print(\"error: pv should be number!!!\")\n",
    "    if type(r)!=float and type(r)!=int: return print(\"error: r should be number!!!\")\n",
    "    if type(y)!=float and type(y)!=int: return print(\"error: y should be number!!!\")\n",
    "    if type(m)!=int: return print(\"error: M should be integer!!!\")\n",
    "    if f==\"annual\": fre=1\n",
    "    elif f==\"semi-annual\": fre=2\n",
    "    elif f==\"quarterly\": fre=4\n",
    "    else: return print(\"error: input correct f : 'annual' or 'semi-annual' or 'quarterly'\")\n",
    "    n=fre*m\n",
    "    coupon=pv*r/100/fre\n",
    "    price=0.0\n",
    "    value_duration=0.0\n",
    "    for i in range(n):\n",
    "        if i==n-1: cf_i=pv+coupon\n",
    "        else: cf_i=coupon\n",
    "        pv_cf_i=cf_i/((1+(y/100/fre))**(i+1))\n",
    "        tw_pv_cf_i=((i+1)/fre)*cf_i/(1+(y/100/fre))**(i+1)\n",
    "        price+=pv_cf_i\n",
    "        value_duration+=tw_pv_cf_i\n",
    "    duration=value_duration/price\n",
    "    result=(round(price,rnd),round(duration,rnd))\n",
    "    return result"
   ]
  },
  {
   "cell_type": "code",
   "execution_count": 27,
   "metadata": {},
   "outputs": [
    {
     "data": {
      "text/plain": [
       "100.951"
      ]
     },
     "execution_count": 27,
     "metadata": {},
     "output_type": "execute_result"
    }
   ],
   "source": [
    "bondftn(pv=100,r=5,y=4.5,m=2,f=\"quarterly\")"
   ]
  },
  {
   "cell_type": "markdown",
   "metadata": {},
   "source": [
    "### (2)\n",
    "\n",
    "만기 M이 5, 4, 3, 2, 1인 각 경우에 대해, 쿠폰이자율이 5%, 4%, 3%, 2%, 1% 인 각각에 대하여 만기수익률이 10%에 11%로 상승함에 따라 채권 가격의 변화율이 몇 %인지를 모두\n",
    "계산한 뒤, 아래와 같은 중첩된 딕셔너리 result_dict으로 저장하여라.\n",
    "\n",
    "단, 액면가는 100, 쿠폰 지급 횟수는 연간 1회라고 하자.\n"
   ]
  },
  {
   "cell_type": "code",
   "execution_count": 33,
   "metadata": {},
   "outputs": [
    {
     "data": {
      "text/plain": [
       "{'M=5': {'5%': -0.03974,\n",
       "  '4%': -0.04046,\n",
       "  '3%': -0.04126,\n",
       "  '2%': -0.04215,\n",
       "  '1%': -0.04314},\n",
       " 'M=4': {'5%': -0.03287,\n",
       "  '4%': -0.03332,\n",
       "  '3%': -0.03381,\n",
       "  '2%': -0.03434,\n",
       "  '1%': -0.03491},\n",
       " 'M=3': {'5%': -0.02544,\n",
       "  '4%': -0.02568,\n",
       "  '3%': -0.02593,\n",
       "  '2%': -0.02619,\n",
       "  '1%': -0.02648},\n",
       " 'M=2': {'5%': -0.01749,\n",
       "  '4%': -0.01758,\n",
       "  '3%': -0.01765,\n",
       "  '2%': -0.01776,\n",
       "  '1%': -0.01784},\n",
       " 'M=1': {'5%': -0.00901,\n",
       "  '4%': -0.009,\n",
       "  '3%': -0.009,\n",
       "  '2%': -0.009,\n",
       "  '1%': -0.00901}}"
      ]
     },
     "execution_count": 33,
     "metadata": {},
     "output_type": "execute_result"
    }
   ],
   "source": [
    "result_dict=dict()\n",
    "for i in range(5):\n",
    "    m_i=5-i\n",
    "    result_dict['M='+str(m_i)]=dict()\n",
    "    for j in range(5):\n",
    "        r_j=5-j\n",
    "        price_before=bondftn(pv=100,r=r_j,y=10,m=m_i,f=\"annual\")[0]\n",
    "        price_after=bondftn(pv=100,r=r_j,y=11,m=m_i,f=\"annual\")[0]\n",
    "        price_return=(price_after-price_before)/price_before\n",
    "        result_dict['M='+str(m_i)][str(r_j)+'%']=round(price_return,5)\n",
    "result_dict"
   ]
  },
  {
   "cell_type": "code",
   "execution_count": 34,
   "metadata": {},
   "outputs": [
    {
     "data": {
      "text/plain": [
       "-0.03974"
      ]
     },
     "execution_count": 34,
     "metadata": {},
     "output_type": "execute_result"
    }
   ],
   "source": [
    "result_dict['M=5']['5%']"
   ]
  },
  {
   "cell_type": "markdown",
   "metadata": {},
   "source": [
    "### (3)\n",
    "만기 M이 5, 4, 3, 2, 1인 각 경우에 대해, 쿠폰이자율이 5%, 4%, 3%, 2%, 1% 인 각각에 대하여 만기수익률이 10%로 주어졌을 때의 듀레이션을 (1)에서의 bondftn을 활용하여 모두\n",
    "계산하여라.\n",
    "\n",
    "또한 이를 (2)에서와 동일한 구조를 가지는 (중첩된) 딕셔너리 result_dict_dur에 저장하여라.\n",
    "\n",
    "즉 아래와 같은 방식으로 값을 추출할 수 있어야 한다. 단, 여기서도 액면가는 100, 쿠폰 지급 횟수는 연간 1회라고 하자."
   ]
  },
  {
   "cell_type": "code",
   "execution_count": 37,
   "metadata": {},
   "outputs": [
    {
     "data": {
      "text/plain": [
       "{'M=5': {'5%': 4.48786,\n",
       "  '4%': 4.57019,\n",
       "  '3%': 4.66101,\n",
       "  '2%': 4.76171,\n",
       "  '1%': 4.874},\n",
       " 'M=4': {'5%': 3.6951,\n",
       "  '4%': 3.74653,\n",
       "  '3%': 3.80216,\n",
       "  '2%': 3.8625,\n",
       "  '1%': 3.9282},\n",
       " 'M=3': {'5%': 2.84899,\n",
       "  '4%': 2.87566,\n",
       "  '3%': 2.90394,\n",
       "  '2%': 2.93397,\n",
       "  '1%': 2.96593},\n",
       " 'M=2': {'5%': 1.95023,\n",
       "  '4%': 1.95941,\n",
       "  '3%': 1.96896,\n",
       "  '2%': 1.97889,\n",
       "  '1%': 1.98923},\n",
       " 'M=1': {'5%': 1.0, '4%': 1.0, '3%': 1.0, '2%': 1.0, '1%': 1.0}}"
      ]
     },
     "execution_count": 37,
     "metadata": {},
     "output_type": "execute_result"
    }
   ],
   "source": [
    "result_dict_dur=dict()\n",
    "for i in range(5):\n",
    "    m_i=5-i\n",
    "    result_dict_dur['M='+str(m_i)]=dict()\n",
    "    for j in range(5):\n",
    "        r_j=5-j\n",
    "        result_dict_dur['M='+str(m_i)][str(r_j)+'%']=bondftn(pv=100,r=r_j,y=10,m=m_i,\n",
    "                                                             f=\"annual\",rnd=5)[1]\n",
    "result_dict_dur"
   ]
  },
  {
   "cell_type": "code",
   "execution_count": 38,
   "metadata": {},
   "outputs": [
    {
     "data": {
      "text/plain": [
       "4.57019"
      ]
     },
     "execution_count": 38,
     "metadata": {},
     "output_type": "execute_result"
    }
   ],
   "source": [
    "result_dict_dur['M=5']['4%']"
   ]
  },
  {
   "cell_type": "markdown",
   "metadata": {},
   "source": [
    "## Problem 2.\n",
    "\n",
    "![](Python midterm2.png)\n",
    "\n",
    "### (1) \n",
    "어떤 1년 동안 발생하는 모든 청구들의 시간과 금액을 모의실험해 보자.\n",
    "\n",
    "0에서 시작하여1년 동안 보험회사의 잔고를 계산한 뒤 balance라는 리스트로 저장하여라.\n",
    "\n",
    "단, balance의 첫번째 값은 0이며, 보험 청구가 발생하는 시점(𝑡)에만, 해당 시점의 balance (그 시점까지 받은 보험료 수익(150𝑡)을 더하고, 그 시점에서 청구로 지급되는 보험금을 빼 주는 방식)를 계산하여 순서대로 저장할 것."
   ]
  },
  {
   "cell_type": "markdown",
   "metadata": {},
   "source": [
    "**Answer**\n",
    "\n",
    "먼저, 보험금의 연간 청구건수가 평균이 100인 포아송분포를 따르므로 $P(X=x)=\\frac{\\lambda^xe^{-\\lambda}}{x!},\\;\\lambda=100$를 만족합니다.\n",
    "\n",
    "다음으로, 보험금의 청구금액은 평균은 1, 분산은 1/2인 감마분포를 따르므로 $pdf,\\;f(x)=x^{k-1}\\frac{e^{-x/\\theta}}{\\theta^k\\Gamma(k)},\\;k\\theta=1,\\;k\\theta^2=1/2$입니다. 즉, $k=2,\\;\\theta=1/2$입니다.\n",
    "\n",
    "각 청구금액은 즉시 지급되며, 발생시점은 0~1 사이의 uniform distribution을 따르므로 $pdx.\\;f(x)=\\frac{1}{1-0}=1$입니다.\n",
    "\n",
    "이제, 1년간 발생하는 보험손익의 모의실험에 대한 청구건수(포아송분포)를 $N$ 청구금액(감마분포), 청구시점(균등분포)를 각각 $g_i,\\;t_i\\; for\\; 1,...,N$라고 하면, $t=t_i$ 시점의 balance는 아래와 같이 계산됩니다.\n",
    "\n",
    "$${balance}_{t_i}=150t_i-\\sum_{k=1}^{i}g_k$$\n",
    "\n",
    "또한, 기말시점(t=1)의 최종 balance는 $150-\\sum_{all\\;k}g_k$가 됩니다."
   ]
  },
  {
   "cell_type": "code",
   "execution_count": 165,
   "metadata": {},
   "outputs": [],
   "source": [
    "# 포아송, 감마, 균등분포에 다한 모의실험은 numpy의 random module 활용\n",
    "import numpy as np\n",
    "from numpy import random as rd\n",
    "rd.seed(0)\n",
    "N=rd.poisson(lam=100,size=1)\n",
    "N=N[0]\n",
    "t=rd.uniform(low=0.0,high=1.0,size=N)\n",
    "t=np.sort(t)\n",
    "g=rd.gamma(shape=2.,scale=0.5,size=N)\n",
    "balance=[0]\n",
    "for i in range(N):\n",
    "    balance.append(round(t[i]*150-sum(g[:i+1]),4))\n",
    "balance.append(round(150-sum(g),4))"
   ]
  },
  {
   "cell_type": "code",
   "execution_count": 166,
   "metadata": {},
   "outputs": [
    {
     "name": "stdout",
     "output_type": "stream",
     "text": [
      "[0, -1.9755, -2.1182, -2.7092, -3.9799]\n",
      "[44.5214, 47.2399, 48.4395, 48.2655, 47.6871, 48.74, 50.4839]\n"
     ]
    }
   ],
   "source": [
    "print(balance[:5],balance[N-5:],sep=\"\\n\")"
   ]
  },
  {
   "cell_type": "markdown",
   "metadata": {},
   "source": [
    "### (2)\n",
    "\n",
    "위 모의실험을 10000회 반복하여 다음에 대한 확률을 추정해 보자.\n",
    "\n",
    "- 보험회사가 최종적으로 가지게 되는 balance의 기대값(모의실험을 10000회 반복하였을 때 각 모의실험마다 계산된 balance의 최종값들의 평균으로 추정)은 얼마인가?\n",
    "\n",
    "- 보험회사의 balance가 1년 중 한번 이상 -5 이하로 떨어질 확률(10000회의 모의실험 중에서 balance가 -5이하로 떨어진 적이 있었던 경우의 비율로 추정)은 얼마인가?"
   ]
  },
  {
   "cell_type": "markdown",
   "metadata": {},
   "source": [
    "**Answer**\n",
    "\n",
    "평균은 약 49.86, -5이하로 떨어질 확률은 약 7.05\\%입니다."
   ]
  },
  {
   "cell_type": "code",
   "execution_count": 168,
   "metadata": {},
   "outputs": [
    {
     "name": "stdout",
     "output_type": "stream",
     "text": [
      "49.864134890000095\n",
      "0.0705\n"
     ]
    }
   ],
   "source": [
    "last_balance=list()\n",
    "minus5_balance=0\n",
    "for k in range(10000):\n",
    "    rd.seed(k)\n",
    "    N=rd.poisson(lam=100,size=1)\n",
    "    N=N[0]\n",
    "    t=rd.uniform(low=0.0,high=1.0,size=N)\n",
    "    t=np.sort(t)\n",
    "    g=rd.gamma(shape=2.,scale=0.5,size=N)\n",
    "    balance=[0]\n",
    "    for i in range(N):\n",
    "        balance.append(round(t[i]*150-sum(g[:i+1]),4))\n",
    "    last_balance.append(round(150-sum(g),4))\n",
    "    balance.sort()\n",
    "    if balance[0]<=-5:minus5_balance+=1\n",
    "print(sum(last_balance)/10000,\n",
    "      minus5_balance/10000,sep=\"\\n\")"
   ]
  }
 ],
 "metadata": {
  "kernelspec": {
   "display_name": "hwan",
   "language": "python",
   "name": "python3"
  },
  "language_info": {
   "codemirror_mode": {
    "name": "ipython",
    "version": 3
   },
   "file_extension": ".py",
   "mimetype": "text/x-python",
   "name": "python",
   "nbconvert_exporter": "python",
   "pygments_lexer": "ipython3",
   "version": "3.10.14"
  }
 },
 "nbformat": 4,
 "nbformat_minor": 2
}
