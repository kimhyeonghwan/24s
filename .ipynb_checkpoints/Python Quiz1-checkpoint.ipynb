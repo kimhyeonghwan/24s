{
 "cells": [
  {
   "cell_type": "markdown",
   "metadata": {},
   "source": [
    "# 금융공학프로그래밍3, Quiz1"
   ]
  },
  {
   "cell_type": "markdown",
   "metadata": {},
   "source": [
    "## 1. Calculate the following"
   ]
  },
  {
   "cell_type": "code",
   "execution_count": 69,
   "metadata": {},
   "outputs": [],
   "source": [
    "import math"
   ]
  },
  {
   "cell_type": "code",
   "execution_count": 70,
   "metadata": {},
   "outputs": [
    {
     "name": "stdout",
     "output_type": "stream",
     "text": [
      "(1) a,b,c가 위와 같을 때, 근의 공식을 활용한 2차방정식의 근은 아래와 같습니다.\n",
      "3.0\n",
      "-2.5\n"
     ]
    }
   ],
   "source": [
    "# (1)\n",
    "a=2.0;b=-1.0;c=-15.0;\n",
    "print(\n",
    "    \"(1) a,b,c가 위와 같을 때, 근의 공식을 활용한 2차방정식의 근은 아래와 같습니다.\",\n",
    "    (-b+math.sqrt(b**2-4*a*c))/(2*a),\n",
    "    (-b-math.sqrt(b**2-4*a*c))/(2*a),\n",
    "    sep='\\n'\n",
    ")"
   ]
  },
  {
   "cell_type": "code",
   "execution_count": 71,
   "metadata": {},
   "outputs": [
    {
     "name": "stdout",
     "output_type": "stream",
     "text": [
      "(2) 평균, 표준편차가 위와 같을 때, 정규분포 확률밀도함수의 x=1에서의 값은 아래와 같습니다.\n",
      "0.19496965572274114\n"
     ]
    }
   ],
   "source": [
    "# (2)\n",
    "mean=2; std=math.sqrt(3); x=1;\n",
    "print(\n",
    "    \"(2) 평균, 표준편차가 위와 같을 때, 정규분포 확률밀도함수의 x=1에서의 값은 아래와 같습니다.\",\n",
    "    (1/(math.sqrt(2*math.pi)*std))*(math.e**(-((x-mean)**2)/(2*(std)**2))),\n",
    "    sep='\\n'\n",
    ")\n"
   ]
  },
  {
   "cell_type": "markdown",
   "metadata": {},
   "source": [
    "## 2. Briefly explain why the error occurs"
   ]
  },
  {
   "cell_type": "code",
   "execution_count": 73,
   "metadata": {},
   "outputs": [
    {
     "name": "stdout",
     "output_type": "stream",
     "text": [
      "8 53\n"
     ]
    }
   ],
   "source": [
    "# (1) input 값은 string타입으로 받게되므로, integer타입인 3과 더하기 연산을 하면 오류 발생\n",
    "# input 값을 받아 integer로 변환하여 integer간 연산을 하거나, 3을 string으로 변환하여 문자열간 연산을 하거나 해야함.\n",
    "a=input(\"enter a number:\")\n",
    "print(int(a)+3,a+str(3))"
   ]
  },
  {
   "cell_type": "code",
   "execution_count": 74,
   "metadata": {},
   "outputs": [
    {
     "data": {
      "text/plain": [
       "'g'"
      ]
     },
     "execution_count": 74,
     "metadata": {},
     "output_type": "execute_result"
    }
   ],
   "source": [
    "# (2) tmp는 공백포함 9자리 문자열임. index는 0~8까지만 할 수 있고 9부터는 범위 밖임\n",
    "tmp='My String'\n",
    "tmp[8]"
   ]
  },
  {
   "cell_type": "code",
   "execution_count": 75,
   "metadata": {},
   "outputs": [
    {
     "data": {
      "text/plain": [
       "'SAMP'"
      ]
     },
     "execution_count": 75,
     "metadata": {},
     "output_type": "execute_result"
    }
   ],
   "source": [
    "# (3) method를 사용할 때, 뒤에 ()를 붙여야 작동함. 붙이지 않을경우 단순히 함수를 호출하는 것임.\n",
    "ex1='sample string'\n",
    "ex2=ex1.upper()\n",
    "ex2[:4]"
   ]
  },
  {
   "cell_type": "markdown",
   "metadata": {},
   "source": [
    "## 3. Create the follwing string"
   ]
  },
  {
   "cell_type": "code",
   "execution_count": 76,
   "metadata": {},
   "outputs": [],
   "source": [
    "grade='ABCDF'"
   ]
  },
  {
   "cell_type": "code",
   "execution_count": 77,
   "metadata": {},
   "outputs": [
    {
     "data": {
      "text/plain": [
       "'ABCDFFFDCBA'"
      ]
     },
     "execution_count": 77,
     "metadata": {},
     "output_type": "execute_result"
    }
   ],
   "source": [
    "# (1)\n",
    "grade_str=grade+grade[-1]+grade[::-1]\n",
    "grade_str"
   ]
  },
  {
   "cell_type": "code",
   "execution_count": 78,
   "metadata": {},
   "outputs": [
    {
     "data": {
      "text/plain": [
       "2"
      ]
     },
     "execution_count": 78,
     "metadata": {},
     "output_type": "execute_result"
    }
   ],
   "source": [
    "# (2)\n",
    "grade_str.count('A')"
   ]
  },
  {
   "cell_type": "code",
   "execution_count": 79,
   "metadata": {},
   "outputs": [
    {
     "name": "stdout",
     "output_type": "stream",
     "text": [
      "FFF\n",
      "FFF\n",
      "FFF\n",
      "FFF\n"
     ]
    }
   ],
   "source": [
    "# (3)\n",
    "print(\n",
    "    grade_str[4:7],\n",
    "    grade_str[6:3:-1],\n",
    "    grade_str[-7:-4],\n",
    "    grade_str[-5:-8:-1],\n",
    "    sep='\\n'\n",
    ")"
   ]
  },
  {
   "cell_type": "code",
   "execution_count": 80,
   "metadata": {},
   "outputs": [
    {
     "data": {
      "text/plain": [
       "'ABCDAAADCBA'"
      ]
     },
     "execution_count": 80,
     "metadata": {},
     "output_type": "execute_result"
    }
   ],
   "source": [
    "# (4)\n",
    "grade_str=grade_str.replace('F','A')\n",
    "grade_str"
   ]
  },
  {
   "cell_type": "code",
   "execution_count": 81,
   "metadata": {},
   "outputs": [
    {
     "data": {
      "text/plain": [
       "'abcdaaadcba'"
      ]
     },
     "execution_count": 81,
     "metadata": {},
     "output_type": "execute_result"
    }
   ],
   "source": [
    "# (5)\n",
    "grade_str.lower()"
   ]
  },
  {
   "cell_type": "markdown",
   "metadata": {},
   "source": [
    "## 4. Briefly explain why the error occurs"
   ]
  },
  {
   "cell_type": "code",
   "execution_count": 84,
   "metadata": {},
   "outputs": [],
   "source": [
    "# (1) 2중 리스트에서 첫번째 리스트를 슬라이싱하는 경우, output은 리스트임.\n",
    "# 리스트에 integer 30을 할당하려고 하므로, 오류 발생\n",
    "# 리스트를 할당하던지, 슬라이싱이 아닌 인덱싱을 하던지 해야함\n",
    "L=[[1,3,5,7,9],[2,4,6,8,10]]\n",
    "L[0][1]=30\n",
    "# 인덱싱으로 하면 오류 안남"
   ]
  },
  {
   "cell_type": "code",
   "execution_count": 85,
   "metadata": {},
   "outputs": [
    {
     "data": {
      "text/plain": [
       "(10, 20, 40)"
      ]
     },
     "execution_count": 85,
     "metadata": {},
     "output_type": "execute_result"
    }
   ],
   "source": [
    "# (2) 튜플에 더하기를 사용하는 경우인데, (40)은 튜플이 아니라 integer임\n",
    "# 단일 원소 튜플을 표현하려면 (40,)으로 써야함\n",
    "T=(10,20,30)\n",
    "T[:2]+(40,)"
   ]
  },
  {
   "cell_type": "code",
   "execution_count": 87,
   "metadata": {},
   "outputs": [
    {
     "data": {
      "text/plain": [
       "10"
      ]
     },
     "execution_count": 87,
     "metadata": {},
     "output_type": "execute_result"
    }
   ],
   "source": [
    "# (3) D2=D를 사용하면, D2에 D복사본이 할당되는게 아니라 단순히 D에 D2라는 label만 새로 달아준것임\n",
    "# 따라서, D2에 'A' key를 제거하면 D의 'A' key도 사라지는 것임\n",
    "D=dict(A=10,B=20,C=30)\n",
    "# Copy method를 써야 복사본이 할당됨\n",
    "D2=D.copy()\n",
    "del D2['A']\n",
    "D['A']"
   ]
  },
  {
   "cell_type": "code",
   "execution_count": 89,
   "metadata": {},
   "outputs": [],
   "source": [
    "# (4) Dictionary 타입의 key값은 immutable한 값만 허용됨\n",
    "# List는 mutable하므로 tuple을 쓰던지 해야함\n",
    "D3={('Park','Male'):30,}"
   ]
  },
  {
   "cell_type": "code",
   "execution_count": 94,
   "metadata": {},
   "outputs": [
    {
     "data": {
      "text/plain": [
       "10"
      ]
     },
     "execution_count": 94,
     "metadata": {},
     "output_type": "execute_result"
    }
   ],
   "source": [
    "# (5) Dictionary은 순서가 없음. 슬라이싱 지원안돼고 인덱싱도 key값으로만 해야함\n",
    "dict_y={(1,):10,(2,):20,(3,):30,(4,):40}\n",
    "dict_y[(1,)]"
   ]
  },
  {
   "cell_type": "markdown",
   "metadata": {},
   "source": [
    "## 5. Create the following 'days'"
   ]
  },
  {
   "cell_type": "code",
   "execution_count": 95,
   "metadata": {},
   "outputs": [],
   "source": [
    "days=['Mon','Tues','Wed','Thur','Fri',['Sat','Sun']]"
   ]
  },
  {
   "cell_type": "code",
   "execution_count": 96,
   "metadata": {},
   "outputs": [
    {
     "name": "stdout",
     "output_type": "stream",
     "text": [
      "[['Sat', 'Sun']]\n",
      "[['Sat', 'Sun'], 'Thur', 'Tues']\n",
      "Sat\n"
     ]
    }
   ],
   "source": [
    "# (1)\n",
    "print(\n",
    "    [days[5]],\n",
    "    days[-1::-2],\n",
    "    days[5][0],\n",
    "    sep='\\n'\n",
    ")"
   ]
  },
  {
   "cell_type": "code",
   "execution_count": 111,
   "metadata": {},
   "outputs": [
    {
     "data": {
      "text/plain": [
       "[['Mon', 'Tues', 'Wed', 'Thur', 'Fri'], 'Sat', 'Sun']"
      ]
     },
     "execution_count": 111,
     "metadata": {},
     "output_type": "execute_result"
    }
   ],
   "source": [
    "# (2)\n",
    "days2=[days[0:5]]+days[5][0:1]+days[5][1:]\n",
    "days2"
   ]
  },
  {
   "cell_type": "code",
   "execution_count": 112,
   "metadata": {},
   "outputs": [
    {
     "data": {
      "text/plain": [
       "[['Mon', 'Tues', 'Thur'], 'Sat', 'Sun']"
      ]
     },
     "execution_count": 112,
     "metadata": {},
     "output_type": "execute_result"
    }
   ],
   "source": [
    "# (3)\n",
    "days2[0].remove('Wed')\n",
    "days2[0].remove('Fri')\n",
    "days2\n"
   ]
  },
  {
   "cell_type": "code",
   "execution_count": 113,
   "metadata": {},
   "outputs": [
    {
     "data": {
      "text/plain": [
       "[['Mon', 'Tues', 'W', 'Thur'], 'Sat', 'Sun']"
      ]
     },
     "execution_count": 113,
     "metadata": {},
     "output_type": "execute_result"
    }
   ],
   "source": [
    "# (4)\n",
    "days2[0].insert(2,'W')\n",
    "days2"
   ]
  },
  {
   "cell_type": "markdown",
   "metadata": {},
   "source": [
    "## 6. Create the following 'Nums'"
   ]
  },
  {
   "cell_type": "code",
   "execution_count": 122,
   "metadata": {},
   "outputs": [],
   "source": [
    "Nums=[1,5,2,7,3,6,4]"
   ]
  },
  {
   "cell_type": "code",
   "execution_count": 123,
   "metadata": {},
   "outputs": [
    {
     "data": {
      "text/plain": [
       "[1, 5, 2, 7, 3, 6, 4, 7]"
      ]
     },
     "execution_count": 123,
     "metadata": {},
     "output_type": "execute_result"
    }
   ],
   "source": [
    "# (1)\n",
    "Nums.append(7)\n",
    "Nums"
   ]
  },
  {
   "cell_type": "code",
   "execution_count": 124,
   "metadata": {},
   "outputs": [
    {
     "data": {
      "text/plain": [
       "[7, 7, 6, 5, 4, 3, 2, 1]"
      ]
     },
     "execution_count": 124,
     "metadata": {},
     "output_type": "execute_result"
    }
   ],
   "source": [
    "# (2)\n",
    "Nums.sort()\n",
    "Nums.reverse()\n",
    "Nums"
   ]
  },
  {
   "cell_type": "code",
   "execution_count": 126,
   "metadata": {},
   "outputs": [
    {
     "data": {
      "text/plain": [
       "['a', 7, 'a', 5, 'a', 3, 'a', 1]"
      ]
     },
     "execution_count": 126,
     "metadata": {},
     "output_type": "execute_result"
    }
   ],
   "source": [
    "# (3)\n",
    "Nums[::2]=['a','a','a','a']\n",
    "Nums"
   ]
  },
  {
   "cell_type": "markdown",
   "metadata": {},
   "source": [
    "## 7. Create toe follwing tuple 'price'"
   ]
  },
  {
   "cell_type": "code",
   "execution_count": 141,
   "metadata": {},
   "outputs": [],
   "source": [
    "price=(180,130,110,160,140,170)"
   ]
  },
  {
   "cell_type": "code",
   "execution_count": 142,
   "metadata": {},
   "outputs": [
    {
     "data": {
      "text/plain": [
       "(110, 130, 140, 160, 170, 180)"
      ]
     },
     "execution_count": 142,
     "metadata": {},
     "output_type": "execute_result"
    }
   ],
   "source": [
    "# (1)\n",
    "price_list=list(price)\n",
    "price_list.sort()\n",
    "price=tuple(price_list)\n",
    "price"
   ]
  },
  {
   "cell_type": "code",
   "execution_count": 143,
   "metadata": {},
   "outputs": [
    {
     "data": {
      "text/plain": [
       "True"
      ]
     },
     "execution_count": 143,
     "metadata": {},
     "output_type": "execute_result"
    }
   ],
   "source": [
    "# (2)\n",
    "170 in price"
   ]
  },
  {
   "cell_type": "code",
   "execution_count": 144,
   "metadata": {},
   "outputs": [
    {
     "data": {
      "text/plain": [
       "(110, 130, 140, 160, 0, 0, 0, 180)"
      ]
     },
     "execution_count": 144,
     "metadata": {},
     "output_type": "execute_result"
    }
   ],
   "source": [
    "# (3)\n",
    "price=price[0:4]+(0,)*3+price[len(price)-1:]\n",
    "price"
   ]
  }
 ],
 "metadata": {
  "kernelspec": {
   "display_name": "tf_hwan",
   "language": "python",
   "name": "python3"
  },
  "language_info": {
   "codemirror_mode": {
    "name": "ipython",
    "version": 3
   },
   "file_extension": ".py",
   "mimetype": "text/x-python",
   "name": "python",
   "nbconvert_exporter": "python",
   "pygments_lexer": "ipython3",
   "version": "3.8.15"
  }
 },
 "nbformat": 4,
 "nbformat_minor": 2
}
